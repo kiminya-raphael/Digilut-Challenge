{
 "cells": [
  {
   "cell_type": "markdown",
   "metadata": {},
   "source": [
    "# Predict notebook"
   ]
  },
  {
   "cell_type": "markdown",
   "metadata": {
    "collapsed": false
   },
   "source": [
    "## Import libraries & setup"
   ]
  },
  {
   "cell_type": "code",
   "execution_count": null,
   "metadata": {},
   "outputs": [],
   "source": []
  },
  {
   "cell_type": "code",
   "execution_count": 4,
   "metadata": {
    "ExecuteTime": {
     "end_time": "2024-04-26T08:45:52.165366Z",
     "start_time": "2024-04-26T08:45:50.035237Z"
    }
   },
   "outputs": [],
   "source": [
    "import pandas as pd, numpy as np\n",
    "import sys,os,shutil,gc,re,json,glob,math,time,random,warnings\n",
    "from tqdm import tqdm\n",
    "from ensemble_boxes import *\n",
    "\n",
    "from pathlib import Path\n",
    "from dotenv import load_dotenv, find_dotenv"
   ]
  },
  {
   "cell_type": "code",
   "execution_count": 5,
   "metadata": {
    "ExecuteTime": {
     "end_time": "2024-04-26T08:45:53.475046Z",
     "start_time": "2024-04-26T08:45:53.466523Z"
    }
   },
   "outputs": [
    {
     "data": {
      "text/plain": [
       "True"
      ]
     },
     "execution_count": 5,
     "metadata": {},
     "output_type": "execute_result"
    }
   ],
   "source": [
    "env_path = '/home/jovyan/digilut/ENV'\n",
    "# env_path = '/home/jovyan/digilut/.env'\n",
    "# env_path = find_dotenv()\n",
    "load_dotenv(env_path)"
   ]
  },
  {
   "cell_type": "code",
   "execution_count": 6,
   "metadata": {
    "ExecuteTime": {
     "end_time": "2024-04-26T08:46:03.130966Z",
     "start_time": "2024-04-26T08:46:03.124621Z"
    }
   },
   "outputs": [],
   "source": [
    "DIR_RAW_DATA = os.getenv('DIR_RAW_DATA')\n",
    "DIR_PROCESSED_DATA = os.getenv('DIR_PROCESSED_DATA')\n",
    "DIR_PREDICTIONS = os.getenv('DIR_PREDICTIONS')\n",
    "DIR_MODELS = os.getenv('DIR_MODELS')"
   ]
  },
  {
   "cell_type": "code",
   "execution_count": null,
   "metadata": {},
   "outputs": [],
   "source": []
  },
  {
   "cell_type": "markdown",
   "metadata": {},
   "source": [
    "## Generate predictions"
   ]
  },
  {
   "cell_type": "code",
   "execution_count": 5,
   "metadata": {
    "ExecuteTime": {
     "end_time": "2024-04-26T08:46:23.191328Z",
     "start_time": "2024-04-26T08:46:22.882406Z"
    }
   },
   "outputs": [
    {
     "name": "stdout",
     "output_type": "stream",
     "text": [
      "/home/jovyan/digilut/notebooks\n"
     ]
    }
   ],
   "source": [
    "!pwd"
   ]
  },
  {
   "cell_type": "code",
   "execution_count": 9,
   "metadata": {},
   "outputs": [
    {
     "name": "stdout",
     "output_type": "stream",
     "text": [
      "Loads checkpoint by local backend from path: /home/jovyan/digilut/models/512/model_512_f0/epoch_12.pth\n",
      "generating predictions for  10 slides\n",
      "100%|███████████████████████████████████████| 2785/2785 [21:38<00:00,  2.15it/s]\n",
      "saving predictions to /home/jovyan/digilut/data/predictions/512/test-512_0.pkl\n",
      "Loads checkpoint by local backend from path: /home/jovyan/digilut/models/512/model_512_f1/epoch_12.pth\n",
      "generating predictions for  10 slides\n",
      "100%|███████████████████████████████████████| 2785/2785 [21:06<00:00,  2.20it/s]\n",
      "saving predictions to /home/jovyan/digilut/data/predictions/512/test-512_1.pkl\n",
      "Loads checkpoint by local backend from path: /home/jovyan/digilut/models/512/model_512_f2/epoch_12.pth\n",
      "generating predictions for  10 slides\n",
      "100%|███████████████████████████████████████| 2785/2785 [20:56<00:00,  2.22it/s]\n",
      "saving predictions to /home/jovyan/digilut/data/predictions/512/test-512_2.pkl\n",
      "Loads checkpoint by local backend from path: /home/jovyan/digilut/models/512/model_512_f3/epoch_12.pth\n",
      "generating predictions for  10 slides\n",
      "100%|███████████████████████████████████████| 2785/2785 [20:33<00:00,  2.26it/s]\n",
      "saving predictions to /home/jovyan/digilut/data/predictions/512/test-512_3.pkl\n",
      "Loads checkpoint by local backend from path: /home/jovyan/digilut/models/512/model_512_f4/epoch_12.pth\n",
      "generating predictions for  10 slides\n",
      "100%|███████████████████████████████████████| 2785/2785 [20:34<00:00,  2.26it/s]\n",
      "saving predictions to /home/jovyan/digilut/data/predictions/512/test-512_4.pkl\n"
     ]
    }
   ],
   "source": [
    "!python test/predict.py 512 #>>/dev/null\n"
   ]
  },
  {
   "cell_type": "code",
   "execution_count": null,
   "metadata": {},
   "outputs": [],
   "source": [
    "!python test/predict.py 640\n"
   ]
  },
  {
   "cell_type": "code",
   "execution_count": null,
   "metadata": {},
   "outputs": [],
   "source": [
    "!python test/predict.py 768 \n"
   ]
  },
  {
   "cell_type": "code",
   "execution_count": null,
   "metadata": {},
   "outputs": [],
   "source": [
    "!python test/predict.py 896\n"
   ]
  },
  {
   "cell_type": "code",
   "execution_count": null,
   "metadata": {},
   "outputs": [],
   "source": [
    "!python test/predict.py 1024\n"
   ]
  },
  {
   "cell_type": "code",
   "execution_count": null,
   "metadata": {},
   "outputs": [],
   "source": []
  },
  {
   "cell_type": "markdown",
   "metadata": {
    "editable": true,
    "slideshow": {
     "slide_type": ""
    },
    "tags": []
   },
   "source": [
    "## Save final predictions"
   ]
  },
  {
   "cell_type": "code",
   "execution_count": 7,
   "metadata": {},
   "outputs": [],
   "source": [
    "def bbox_iou(box1, box2, xywh=True, GIoU=False, DIoU=False, CIoU=False, eps=1e-7):\n",
    "    \"\"\"\n",
    "    Calculate Intersection over Union (IoU) of box1(1, 4) to box2(n, 4).\n",
    "\n",
    "    Args:\n",
    "        box1 (torch.Tensor): A tensor representing a single bounding box with shape (1, 4).\n",
    "        box2 (torch.Tensor): A tensor representing n bounding boxes with shape (n, 4).\n",
    "        xywh (bool, optional): If True, input boxes are in (x, y, w, h) format. If False, input boxes are in\n",
    "                               (x1, y1, x2, y2) format. Defaults to True.\n",
    "        GIoU (bool, optional): If True, calculate Generalized IoU. Defaults to False.\n",
    "        DIoU (bool, optional): If True, calculate Distance IoU. Defaults to False.\n",
    "        CIoU (bool, optional): If True, calculate Complete IoU. Defaults to False.\n",
    "        eps (float, optional): A small value to avoid division by zero. Defaults to 1e-7.\n",
    "\n",
    "    Returns:\n",
    "        (torch.Tensor): IoU, GIoU, DIoU, or CIoU values depending on the specified flags.\n",
    "    \"\"\"\n",
    "\n",
    "    # Get the coordinates of bounding boxes\n",
    "    if xywh:  # transform from xywh to xyxy\n",
    "        (x1, y1, w1, h1), (x2, y2, w2, h2) = box1.chunk(4, -1), box2.chunk(4, -1)\n",
    "        w1_, h1_, w2_, h2_ = w1 / 2, h1 / 2, w2 / 2, h2 / 2\n",
    "        b1_x1, b1_x2, b1_y1, b1_y2 = x1 - w1_, x1 + w1_, y1 - h1_, y1 + h1_\n",
    "        b2_x1, b2_x2, b2_y1, b2_y2 = x2 - w2_, x2 + w2_, y2 - h2_, y2 + h2_\n",
    "\n",
    "    else:  # x1, y1, x2, y2 = box1\n",
    "        b1_x1, b1_y1, b1_x2, b1_y2 = box1.chunk(4, -1)\n",
    "        b2_x1, b2_y1, b2_x2, b2_y2 = box2.chunk(4, -1)\n",
    "        w1, h1 = b1_x2 - b1_x1, b1_y2 - b1_y1 + eps\n",
    "        w2, h2 = b2_x2 - b2_x1, b2_y2 - b2_y1 + eps\n",
    "\n",
    "\n",
    "    # Intersection area\n",
    "    inter = (b1_x2.minimum(b2_x2) - b1_x1.maximum(b2_x1)).clamp_(0) * (\n",
    "        b1_y2.minimum(b2_y2) - b1_y1.maximum(b2_y1)\n",
    "    ).clamp_(0)\n",
    "\n",
    "    # Union Area\n",
    "    union = w1 * h1 + w2 * h2 - inter + eps\n",
    "\n",
    "    # IoU\n",
    "    iou = inter / union\n",
    "    if CIoU or DIoU or GIoU:\n",
    "        cw = b1_x2.maximum(b2_x2) - b1_x1.minimum(b2_x1)  # convex (smallest enclosing box) width\n",
    "        ch = b1_y2.maximum(b2_y2) - b1_y1.minimum(b2_y1)  # convex height\n",
    "        if CIoU or DIoU:  # Distance or Complete IoU https://arxiv.org/abs/1911.08287v1\n",
    "            c2 = cw.pow(2) + ch.pow(2) + eps  # convex diagonal squared\n",
    "            rho2 = (\n",
    "                (b2_x1 + b2_x2 - b1_x1 - b1_x2).pow(2) + (b2_y1 + b2_y2 - b1_y1 - b1_y2).pow(2)\n",
    "            ) / 4  # center dist**2\n",
    "            if CIoU:  # https://github.com/Zzh-tju/DIoU-SSD-pytorch/blob/master/utils/box/box_utils.py#L47\n",
    "                v = (4 / math.pi**2) * ((w2 / h2).atan() - (w1 / h1).atan()).pow(2)\n",
    "                with torch.no_grad():\n",
    "                    alpha = v / (v - iou + (1 + eps))\n",
    "                return iou - (rho2 / c2 + v * alpha)  # CIoU\n",
    "            return iou - rho2 / c2  # DIoU\n",
    "        c_area = cw * ch + eps  # convex area\n",
    "        return iou - (c_area - union) / c_area  # GIoU https://arxiv.org/pdf/1902.09630.pdf\n",
    "    return iou  # IoU\n",
    "\n",
    "from copy import deepcopy\n",
    "def get_score(gts,d,T=0.5):\n",
    "    d_tp = d[d.giou>=T].drop_duplicates(subset='gt',keep='first') # correctly matched/ uniquely paired to a gt and >= threshold\n",
    "    tp = len(d_tp)\n",
    "    d_fp = d[(~d['pr'].isin(d_tp['pr'].values) & (d.giou>=T))] # extra matches to a gt and >= threshold\n",
    "    fp = len(d_fp)\n",
    "    n_gt = len(gts)\n",
    "    fn = n_gt - tp #unmatched gt\n",
    "    eps = 0.1\n",
    "    precision = tp/(tp+fp+eps)\n",
    "    recall = tp/(tp+fn+eps)\n",
    "    sc = ((5 * precision) * recall) /  ((4*precision) + recall+eps)\n",
    "    return sc\n",
    "\n",
    "def get_multi_score(gts,d,Ts):\n",
    "    scs = []\n",
    "    for T in Ts:\n",
    "        sc = get_score(gts,d,T)\n",
    "        scs.append(sc)\n",
    "    sc = np.mean(scs)\n",
    "    return sc\n",
    "\n",
    "def calc_scores(GTS,PREDS,Ts):\n",
    "    scores = []\n",
    "    for slide_id in GTS.keys():\n",
    "        gts = deepcopy(GTS[slide_id])\n",
    "        gts = torch.from_numpy(np.array(gts))\n",
    "        if not slide_id in PREDS:\n",
    "            scores.append(0)\n",
    "            continue\n",
    "\n",
    "        prs = deepcopy(PREDS[slide_id])\n",
    "\n",
    "        res = []\n",
    "        for pr in prs:\n",
    "            pr = torch.tensor(pr).unsqueeze(0)\n",
    "            gious = bbox_iou(pr, gts, xywh=False, GIoU=True).flatten().tolist()\n",
    "            # gious = bbox_iou(pr, gts, xywh=True, GIoU=True).flatten().tolist()\n",
    "            pr = pr[0].tolist()\n",
    "            r = [(str(gts[i].tolist()),str(pr),gious[i]) for i in range(len(gts))]\n",
    "            res += r\n",
    "\n",
    "\n",
    "        d = pd.DataFrame(res,columns=['gt','pr','giou']).sort_values(by='giou',ascending=False)\n",
    "        sc = get_multi_score(gts,d,Ts)\n",
    "\n",
    "        scores.append(sc)\n",
    "    return np.mean(scores)\n",
    "\n",
    "\n",
    "\n",
    "def get_norm_bbs(df_res_wsi):\n",
    "  \n",
    "  bb_norm = []\n",
    "  bbs = []\n",
    "  hs = []; ws = []\n",
    "  for _,row in df_res_wsi.iterrows():\n",
    "    x = deepcopy(row.bbox)\n",
    "    ws.append(x[2]-x[0])\n",
    "    hs.append(x[3]-x[1])\n",
    "\n",
    "    bbs.append(deepcopy(x))\n",
    "    x = [x[0]/row.swidth,x[1]/row.sheight,x[2]/row.swidth,x[3]/row.sheight]\n",
    "    x = np.array(x).clip(0,1)\n",
    "    assert (x<=1).all()\n",
    "    bb_norm.append(x)\n",
    "\n",
    "  df_res_wsi['bbox_norm'] = bb_norm\n",
    "  df_res_wsi['bbox'] = bbs\n",
    "  df_res_wsi['bbh'] = hs\n",
    "  df_res_wsi['bbw'] = ws\n",
    "\n",
    "  print(len(df_res_wsi),df_res_wsi.slide_id.nunique())\n",
    "  display(df_res_wsi.describe())\n",
    "  return df_res_wsi\n",
    "\n",
    "\n",
    "def load_res(path):\n",
    "  df_res = pd.read_pickle(path).rename(columns={'bbox':'bbox_raw'}).dropna()\n",
    "\n",
    "  d1 = df_res.file_id.str.split('.').str[0].str.rsplit('_',n=3,expand=True).drop(columns=1).copy()\n",
    "  d1.columns = ['slide_id','y','x']\n",
    "  df_res['x'] = d1.x.astype(int)\n",
    "  df_res['y'] = d1.y.astype(int)\n",
    "\n",
    "  bbs = []\n",
    "  for _,row in df_res.iterrows():\n",
    "    bb = deepcopy(np.array(row.bbox_raw))\n",
    "    x1,y1,x2,y2 = bb\n",
    "\n",
    "    tile_00_x = row.x\n",
    "    tile_00_y = row.y\n",
    "    x1 = x1+tile_00_x; x2 = x2+tile_00_x\n",
    "    y1 = y1+tile_00_y; y2 = y2+tile_00_y\n",
    "\n",
    "    bb = np.array([x1,y1,x2,y2]).round().astype(int).tolist()\n",
    "    assert np.min(bb)>=0\n",
    "    bbs.append(bb)\n",
    "\n",
    "  df_res['bbox'] = bbs\n",
    "  df_res = get_norm_bbs(df_res)\n",
    "  return df_res\n",
    "\n",
    "\n",
    "def prune_results(df_val_wsi,df_res_wsi_wbf, nmul=1):\n",
    "  df_res_wsi_pruned = []\n",
    "  dd = df_res_wsi_wbf.sort_values(by=['conf'],ascending=False).copy()\n",
    "\n",
    "  for slide_id,d in dd.groupby('slide_id'):\n",
    "    n = df_val_wsi[df_val_wsi.slide_id==slide_id].shape[0]\n",
    "    d = d.head(n*nmul)\n",
    "    df_res_wsi_pruned.append(d)\n",
    "  df_res_wsi_pruned = pd.concat(df_res_wsi_pruned)\n",
    "  return df_res_wsi_pruned\n",
    "\n",
    "\n",
    "def get_wbf_multi_model(dfs,iou_thr,skip_box_thr,weights=None):\n",
    "  wb_boxes = []; wb_scores = []; wb_labels = []\n",
    "  df_res_wsi_wbf = []\n",
    "  slide_ids = pd.concat(dfs).slide_id.unique().tolist()\n",
    "  df_slide_meta = pd.concat(dfs)[['slide_id','swidth','sheight']].drop_duplicates()\n",
    "\n",
    "  for slide_id in slide_ids:\n",
    "    boxes_list = []; scores_list = []; labels_list = []\n",
    "    for ix_res, df_res in enumerate(dfs):\n",
    "      d = df_res[df_res.slide_id==slide_id].copy()\n",
    "      # d = d[d['Tissue %']>1]\n",
    "      d = d[d['Score']>0.01] #TODO\n",
    "      # d = d[d.conf>0.8]\n",
    "      boxes = d.bbox_norm.tolist()\n",
    "      #assert len(boxes)>0\n",
    "      scores = d.conf.tolist()\n",
    "      labels = [0] * len(boxes)\n",
    "\n",
    "      boxes_list.append(boxes)\n",
    "      scores_list.append(scores)\n",
    "      labels_list.append(labels)\n",
    "\n",
    "    if weights is None:\n",
    "      boxes, scores, labels = weighted_boxes_fusion(boxes_list, scores_list, labels_list, weights=[1 for i in range(len(boxes_list))], iou_thr=iou_thr, skip_box_thr=skip_box_thr)\n",
    "    else:\n",
    "      boxes, scores, labels = weighted_boxes_fusion(boxes_list, scores_list, labels_list, weights=[weights[i] for i in range(len(boxes_list))], iou_thr=iou_thr, skip_box_thr=skip_box_thr)\n",
    "   \n",
    "    h = df_slide_meta[df_slide_meta.slide_id==slide_id].sheight.values[0]\n",
    "    w = df_slide_meta[df_slide_meta.slide_id==slide_id].swidth.values[0]\n",
    "    # h = d.sheight.values[0] #slide height\n",
    "    # w = d.swidth.values[0] #slide width\n",
    "    boxes = [[x[0]*w,x[1]*h,x[2]*w,x[3]*h] for x in boxes]\n",
    "    ws = [b[2]-b[0] for b in boxes]\n",
    "    hs = [b[3]-b[1] for b in boxes]\n",
    "    d_res = pd.DataFrame(dict(slide_id=slide_id,conf=scores,bbox=boxes,bbh1=hs,bbw1=ws))\n",
    "    df_res_wsi_wbf.append(d_res)\n",
    "\n",
    "\n",
    "  df_res_wsi_wbf = pd.concat(df_res_wsi_wbf)\n",
    "  return df_res_wsi_wbf\n",
    "\n"
   ]
  },
  {
   "cell_type": "code",
   "execution_count": null,
   "metadata": {},
   "outputs": [],
   "source": []
  },
  {
   "cell_type": "code",
   "execution_count": 8,
   "metadata": {},
   "outputs": [],
   "source": [
    "df_test = pd.read_csv(f'{DIR_RAW_DATA}/validation.csv')\n",
    "df_test['slide_id'] = df_test.filename.str.split('.').str[0]\n",
    "df_test = df_test.rename(columns={'max_x':'width','max_y':'height'})"
   ]
  },
  {
   "cell_type": "code",
   "execution_count": 16,
   "metadata": {},
   "outputs": [],
   "source": [
    "PREDS = {}\n",
    "for sz in [512,640,768,896,1024]:\n",
    "  paths = glob.glob(f'{DIR_PREDICTIONS}/{sz}/*')\n",
    "  paths = sorted(paths)\n",
    "  preds = []\n",
    "  for p in paths:\n",
    "    res = load_res(p)\n",
    "    preds.append(res)\n",
    "  assert len(preds)==5\n",
    "  PREDS[sz] = preds"
   ]
  },
  {
   "cell_type": "code",
   "execution_count": 11,
   "metadata": {},
   "outputs": [
    {
     "data": {
      "text/plain": [
       "(119, 10, (3217, 32))"
      ]
     },
     "execution_count": 11,
     "metadata": {},
     "output_type": "execute_result"
    }
   ],
   "source": [
    "dfs = PREDS[512]+PREDS[640]+PREDS[768]+PREDS[896]+PREDS[1024]\n",
    "res_all = pd.concat(dfs)\n",
    "\n",
    "weights = None\n",
    "wts = [0.18062,0.21029,0.16048,0.21777,0.18230]\n",
    "wts = [[wts[i]]*5 for i in range(5)]\n",
    "# wts = np.array(wts)\n",
    "wts = np.concatenate(wts)\n",
    "weights = wts/wts.sum()\n",
    "\n",
    "iou_thr,skip_box_thr =  0., 0. \n",
    "\n",
    "df_res_wsi_wbf = get_wbf_multi_model(dfs,iou_thr=iou_thr, skip_box_thr=skip_box_thr,weights=weights)\n",
    "df_res_wsi_pruned =  prune_results(df_test,df_res_wsi_wbf, nmul=1)\n",
    "len(df_res_wsi_pruned),df_res_wsi_pruned.slide_id.nunique(),res_all.shape"
   ]
  },
  {
   "cell_type": "code",
   "execution_count": null,
   "metadata": {},
   "outputs": [],
   "source": []
  },
  {
   "cell_type": "code",
   "execution_count": 13,
   "metadata": {},
   "outputs": [],
   "source": [
    "df_sub = df_test.copy()\n",
    "df_sub['x1'] = None\n",
    "df_sub['x2'] = None\n",
    "df_sub['y1'] = None\n",
    "df_sub['y2'] = None\n",
    "sub = []\n",
    "\n",
    "PAGE = 3\n",
    "MUL = 2**PAGE\n",
    "test_slides = df_sub.slide_id.unique()\n",
    "for slide_id in sorted(test_slides):\n",
    "  d = df_res_wsi_pruned[df_res_wsi_pruned.slide_id==slide_id].reset_index(drop=True)\n",
    "  d1 = df_sub[df_sub.slide_id==slide_id].reset_index(drop=True)\n",
    "  for ix,row in d.iterrows():\n",
    "      x =  np.array(row.bbox)*MUL\n",
    "      x1,y1,x2,y2 = x.round().astype(int)\n",
    "      d1.loc[ix,'x1'] = x1\n",
    "      d1.loc[ix,'y1'] = y1\n",
    "      d1.loc[ix,'x2'] = x2\n",
    "      d1.loc[ix,'y2'] = y2\n",
    "\n",
    "  sub.append(d1)\n",
    "df_sub = pd.concat(sub).sort_values(by='trustii_id').reset_index(drop=True)#.drop(columns=['slide_id'])\n",
    "df_sub = df_sub.rename(columns={'width':'max_x','height':'max_y'})\n",
    "\n",
    "df_na = df_sub[df_sub.x1.isna()].copy()\n",
    "if len(df_na)>0:\n",
    "  sub = []\n",
    "  df_sub = df_sub[~df_sub.trustii_id.isin(df_na.trustii_id.tolist())]\n",
    "  for slide_id in df_na.slide_id.unique():\n",
    "    d1 = df_na[df_na.slide_id==slide_id].reset_index(drop=True)\n",
    "    d = res_all[res_all.slide_id==slide_id].copy().sort_values(by='conf',ascending=False).reset_index(drop=True).head(len(d1))\n",
    "    print(len(d),len(d1))\n",
    "    for ix,row in d.iterrows():\n",
    "        x =  np.array(row.bbox)*MUL\n",
    "        x1,y1,x2,y2 = x.round().astype(int)\n",
    "        d1.loc[ix,'x1'] = x1\n",
    "        d1.loc[ix,'y1'] = y1\n",
    "        d1.loc[ix,'x2'] = x2\n",
    "        d1.loc[ix,'y2'] = y2\n",
    "\n",
    "    sub.append(d1)\n",
    "\n",
    "  df_sub1 = pd.concat(sub).sort_values(by='trustii_id').reset_index(drop=True) \n",
    "  df_sub = pd.concat([df_sub,df_sub1])\n",
    "\n",
    "df_sub = df_sub.sort_values(by='trustii_id').reset_index(drop=True).drop(columns=['slide_id'])\n",
    "df_sub"
   ]
  },
  {
   "cell_type": "code",
   "execution_count": 14,
   "metadata": {},
   "outputs": [
    {
     "name": "stdout",
     "output_type": "stream",
     "text": [
      "filling with 0\n"
     ]
    }
   ],
   "source": [
    "cols = ['x1','y1','x2','y2']\n",
    "df_sub.loc[df_sub.x1.isnull(), cols] = df_sub.groupby('filename')[cols].transform('mean')\n",
    "try:\n",
    "  df_sub[cols] = df_sub[cols].astype(int)\n",
    "except:\n",
    "  print('filling with 0')\n",
    "  df_sub[cols] = df_sub[cols].fillna(0).astype(int)\n",
    "\n",
    "assert df_sub.dropna().shape[0]==762"
   ]
  },
  {
   "cell_type": "code",
   "execution_count": 15,
   "metadata": {},
   "outputs": [
    {
     "data": {
      "text/html": [
       "<div>\n",
       "<style scoped>\n",
       "    .dataframe tbody tr th:only-of-type {\n",
       "        vertical-align: middle;\n",
       "    }\n",
       "\n",
       "    .dataframe tbody tr th {\n",
       "        vertical-align: top;\n",
       "    }\n",
       "\n",
       "    .dataframe thead th {\n",
       "        text-align: right;\n",
       "    }\n",
       "</style>\n",
       "<table border=\"1\" class=\"dataframe\">\n",
       "  <thead>\n",
       "    <tr style=\"text-align: right;\">\n",
       "      <th></th>\n",
       "      <th>filename</th>\n",
       "      <th>max_x</th>\n",
       "      <th>max_y</th>\n",
       "      <th>trustii_id</th>\n",
       "      <th>x1</th>\n",
       "      <th>x2</th>\n",
       "      <th>y1</th>\n",
       "      <th>y2</th>\n",
       "    </tr>\n",
       "  </thead>\n",
       "  <tbody>\n",
       "    <tr>\n",
       "      <th>0</th>\n",
       "      <td>hqi5y2OzZy_b.tif</td>\n",
       "      <td>82944</td>\n",
       "      <td>198144</td>\n",
       "      <td>1</td>\n",
       "      <td>16821</td>\n",
       "      <td>17680</td>\n",
       "      <td>53248</td>\n",
       "      <td>54282</td>\n",
       "    </tr>\n",
       "    <tr>\n",
       "      <th>1</th>\n",
       "      <td>1xebGQuAM7_b.tif</td>\n",
       "      <td>82944</td>\n",
       "      <td>194048</td>\n",
       "      <td>2</td>\n",
       "      <td>51500</td>\n",
       "      <td>52769</td>\n",
       "      <td>55166</td>\n",
       "      <td>55935</td>\n",
       "    </tr>\n",
       "    <tr>\n",
       "      <th>2</th>\n",
       "      <td>8xGdkL0vZt_a.tif</td>\n",
       "      <td>82944</td>\n",
       "      <td>197632</td>\n",
       "      <td>3</td>\n",
       "      <td>63048</td>\n",
       "      <td>63793</td>\n",
       "      <td>79246</td>\n",
       "      <td>80330</td>\n",
       "    </tr>\n",
       "    <tr>\n",
       "      <th>3</th>\n",
       "      <td>LQj5lC48hB_a.tif</td>\n",
       "      <td>82688</td>\n",
       "      <td>196352</td>\n",
       "      <td>4</td>\n",
       "      <td>59722</td>\n",
       "      <td>60609</td>\n",
       "      <td>33418</td>\n",
       "      <td>34185</td>\n",
       "    </tr>\n",
       "    <tr>\n",
       "      <th>4</th>\n",
       "      <td>9NlPhYAFUH_a.tif</td>\n",
       "      <td>82688</td>\n",
       "      <td>197888</td>\n",
       "      <td>5</td>\n",
       "      <td>21507</td>\n",
       "      <td>22247</td>\n",
       "      <td>29370</td>\n",
       "      <td>30151</td>\n",
       "    </tr>\n",
       "    <tr>\n",
       "      <th>...</th>\n",
       "      <td>...</td>\n",
       "      <td>...</td>\n",
       "      <td>...</td>\n",
       "      <td>...</td>\n",
       "      <td>...</td>\n",
       "      <td>...</td>\n",
       "      <td>...</td>\n",
       "      <td>...</td>\n",
       "    </tr>\n",
       "    <tr>\n",
       "      <th>757</th>\n",
       "      <td>7kiGhyiFBZ_b.tif</td>\n",
       "      <td>82688</td>\n",
       "      <td>198144</td>\n",
       "      <td>758</td>\n",
       "      <td>0</td>\n",
       "      <td>0</td>\n",
       "      <td>0</td>\n",
       "      <td>0</td>\n",
       "    </tr>\n",
       "    <tr>\n",
       "      <th>758</th>\n",
       "      <td>M62FqXX2cW_a.tif</td>\n",
       "      <td>82688</td>\n",
       "      <td>198144</td>\n",
       "      <td>759</td>\n",
       "      <td>56391</td>\n",
       "      <td>57224</td>\n",
       "      <td>82016</td>\n",
       "      <td>82687</td>\n",
       "    </tr>\n",
       "    <tr>\n",
       "      <th>759</th>\n",
       "      <td>AIg925SQy8_a.tif</td>\n",
       "      <td>82688</td>\n",
       "      <td>198144</td>\n",
       "      <td>760</td>\n",
       "      <td>0</td>\n",
       "      <td>0</td>\n",
       "      <td>0</td>\n",
       "      <td>0</td>\n",
       "    </tr>\n",
       "    <tr>\n",
       "      <th>760</th>\n",
       "      <td>OXCUbLOBGD_a.tif</td>\n",
       "      <td>82688</td>\n",
       "      <td>197632</td>\n",
       "      <td>761</td>\n",
       "      <td>0</td>\n",
       "      <td>0</td>\n",
       "      <td>0</td>\n",
       "      <td>0</td>\n",
       "    </tr>\n",
       "    <tr>\n",
       "      <th>761</th>\n",
       "      <td>Qy7f832iwf_a.tif</td>\n",
       "      <td>82688</td>\n",
       "      <td>198400</td>\n",
       "      <td>762</td>\n",
       "      <td>0</td>\n",
       "      <td>0</td>\n",
       "      <td>0</td>\n",
       "      <td>0</td>\n",
       "    </tr>\n",
       "  </tbody>\n",
       "</table>\n",
       "<p>762 rows × 8 columns</p>\n",
       "</div>"
      ],
      "text/plain": [
       "             filename  max_x   max_y  trustii_id     x1     x2     y1     y2\n",
       "0    hqi5y2OzZy_b.tif  82944  198144           1  16821  17680  53248  54282\n",
       "1    1xebGQuAM7_b.tif  82944  194048           2  51500  52769  55166  55935\n",
       "2    8xGdkL0vZt_a.tif  82944  197632           3  63048  63793  79246  80330\n",
       "3    LQj5lC48hB_a.tif  82688  196352           4  59722  60609  33418  34185\n",
       "4    9NlPhYAFUH_a.tif  82688  197888           5  21507  22247  29370  30151\n",
       "..                ...    ...     ...         ...    ...    ...    ...    ...\n",
       "757  7kiGhyiFBZ_b.tif  82688  198144         758      0      0      0      0\n",
       "758  M62FqXX2cW_a.tif  82688  198144         759  56391  57224  82016  82687\n",
       "759  AIg925SQy8_a.tif  82688  198144         760      0      0      0      0\n",
       "760  OXCUbLOBGD_a.tif  82688  197632         761      0      0      0      0\n",
       "761  Qy7f832iwf_a.tif  82688  198400         762      0      0      0      0\n",
       "\n",
       "[762 rows x 8 columns]"
      ]
     },
     "execution_count": 15,
     "metadata": {},
     "output_type": "execute_result"
    }
   ],
   "source": [
    "df_sub.to_csv(f'{DIR_PREDICTIONS}/predictions.csv',index=False)\n",
    "df_sub"
   ]
  },
  {
   "cell_type": "code",
   "metadata": {
    "collapsed": false,
    "jupyter": {
     "outputs_hidden": false
    }
   },
   "outputs": [],
   "source": [
    "# submission_schema.validate(predictions_df)"
   ]
  },
  {
   "cell_type": "code",
   "execution_count": null,
   "metadata": {
    "ExecuteTime": {
     "end_time": "2024-05-14T15:04:13.071730Z",
     "start_time": "2024-05-14T15:04:13.068743Z"
    }
   },
   "outputs": [],
   "source": []
  },
  {
   "cell_type": "markdown",
   "metadata": {},
   "source": []
  }
 ],
 "metadata": {
  "kernelspec": {
   "display_name": "Python 3 (ipykernel)",
   "language": "python",
   "name": "python3"
  },
  "language_info": {
   "codemirror_mode": {
    "name": "ipython",
    "version": 3
   },
   "file_extension": ".py",
   "mimetype": "text/x-python",
   "name": "python",
   "nbconvert_exporter": "python",
   "pygments_lexer": "ipython3",
   "version": "3.9.10"
  }
 },
 "nbformat": 4,
 "nbformat_minor": 2
}

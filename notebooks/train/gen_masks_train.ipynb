{
 "cells": [
  {
   "cell_type": "code",
   "execution_count": 2,
   "id": "642046dc-c567-458b-8357-65fe2ccf612d",
   "metadata": {},
   "outputs": [],
   "source": [
    "import numpy as np, pandas as pd\n",
    "import glob,os,sys,argparse,shutil,gc,copy,warnings,random,logging,multiprocessing,time\n",
    "from datetime import timedelta\n",
    "from wsi import slide,filters,tiles,util\n",
    "\n",
    "START_TIME = time.time()\n",
    "logging.basicConfig(level=logging.INFO)\n",
    "logger = logging.getLogger()\n"
   ]
  },
  {
   "cell_type": "code",
   "execution_count": 3,
   "id": "f9f425bb-8c99-4f0c-aff0-37a0542e71ec",
   "metadata": {},
   "outputs": [
    {
     "name": "stdout",
     "output_type": "stream",
     "text": [
      "dropped 18 909\n"
     ]
    }
   ],
   "source": [
    "# DATA_DIR = '/home/jovyan/data'\n",
    "DATA_DIR = os.environ['DIR_RAW_DATA']\n",
    "\n",
    "df = pd.read_csv(f'{DATA_DIR}/train.csv',sep=',')\n",
    "\n",
    "df['slide_id'] = df.filename.str.split('.').str[0]\n",
    "df['og_bbox'] = df.apply(lambda x: [x.x1,x.y1,x.x2,x.y2] ,axis=1)\n",
    "df['corr_bbox'] = df.apply(lambda x: [x.x1,x.y1,min(x.max_x,x.x2),min(x.max_y,x.y2)] ,axis=1)\n",
    "\n",
    "df['w'] = df.x2-df.x1\n",
    "df['h'] = df.y2-df.y1\n",
    "df['xpad'] = df.max_x - df.x2\n",
    "df['ypad'] = df.max_y - df.y2\n",
    "\n",
    "bads = ['7HxL729fl6_b_38839_78455_39604_79279', 'HpWI7vJms2_a_71182_57113_71902_57462', 'i9xm71KbYG_b_31467_113976_31986_114541', 'JvxiXClFKl_a_20316_9218_20451_9502', 'JvxiXClFKl_a_69751_37180_70029_37225', 'Lzx7XfUujk_a_13308_34726_13336_34737', 'Lzx7XfUujk_b_10468_84122_10792_84991', 'Lzx7XfUujk_b_15486_145827_15738_146587', 'Lzx7XfUujk_b_17181_145345_17593_145910', 'Lzx7XfUujk_b_53455_82217_54007_82559', 'Lzx7XfUujk_b_63207_142583_63569_143562', 'Lzx7XfUujk_b_64715_142167_65022_142754', 'Lzx7XfUujk_b_67782_116477_68140_117554', 'Lzx7XfUujk_b_8802_84908_9241_85324', 'rzsagNFXMn_a_15458_148084_15486_148204', 'TFrBjcO8nJ_b_63103_127967_63818_128712', 'WipCgQtJPE_b_25648_118162_26120_118743', 'yJxYpOCh6m_b_18928_24013_18941_24038']\n",
    "df['uniqid'] = df.slide_id + '_'+ df.og_bbox.apply(lambda x: '_'.join([str(i) for i in x]))\n",
    "df_bads = df[df.uniqid.isin(bads)].reset_index(drop=True)\n",
    "df = df[~df.uniqid.isin(bads)].reset_index(drop=True)\n",
    "print(f'dropped {len(df_bads)}',len(df))"
   ]
  },
  {
   "cell_type": "code",
   "execution_count": 4,
   "id": "bf51a2c1-d750-41d8-8695-74a48908a2e4",
   "metadata": {},
   "outputs": [
    {
     "data": {
      "text/plain": [
       "(247, 15)"
      ]
     },
     "execution_count": 4,
     "metadata": {},
     "output_type": "execute_result"
    }
   ],
   "source": [
    "meta = df.drop_duplicates(subset='filename').reset_index(drop=True)\n",
    "meta.shape"
   ]
  },
  {
   "cell_type": "code",
   "execution_count": 10,
   "id": "9c487229-018a-4884-b0d7-3cda8d8b0614",
   "metadata": {},
   "outputs": [
    {
     "name": "stdout",
     "output_type": "stream",
     "text": [
      "##### MASKING 247 SLIDES #####\n",
      "Applying filters to images (multiprocess)\n",
      "\n",
      "Number of processes: 5 Number of training images: 247\n",
      "Time to apply filters to all images (multiprocess): 0:02:19.100617\n",
      "\n",
      "##### TIME MASKING SLIDES: 0:02:19.562460 #####\n"
     ]
    }
   ],
   "source": [
    "##Generate masks\n",
    "NAMES = meta.slide_id.tolist()#[:10]\n",
    "\n",
    "print(f'##### MASKING {len(NAMES)} SLIDES #####')\n",
    "\n",
    "filters.multiprocess_apply_filters_to_images(image_name_list=NAMES,)\n",
    "elapsed = time.time() - START_TIME\n",
    "print(f'##### TIME MASKING SLIDES: {timedelta(seconds=elapsed)} #####')\n"
   ]
  }
 ],
 "metadata": {
  "kernelspec": {
   "display_name": "Python 3 (ipykernel)",
   "language": "python",
   "name": "python3"
  },
  "language_info": {
   "codemirror_mode": {
    "name": "ipython",
    "version": 3
   },
   "file_extension": ".py",
   "mimetype": "text/x-python",
   "name": "python",
   "nbconvert_exporter": "python",
   "pygments_lexer": "ipython3",
   "version": "3.9.10"
  }
 },
 "nbformat": 4,
 "nbformat_minor": 5
}

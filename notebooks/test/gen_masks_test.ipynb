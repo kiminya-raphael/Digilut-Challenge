{
 "cells": [
  {
   "cell_type": "code",
   "execution_count": 3,
   "id": "642046dc-c567-458b-8357-65fe2ccf612d",
   "metadata": {},
   "outputs": [],
   "source": [
    "import numpy as np, pandas as pd\n",
    "import glob,os,sys,argparse,shutil,gc,copy,warnings,random,logging,multiprocessing,time\n",
    "from datetime import timedelta\n",
    "from wsi import slide,filters,tiles,util\n",
    "\n",
    "START_TIME = time.time()\n",
    "logging.basicConfig(level=logging.INFO)\n",
    "logger = logging.getLogger()\n"
   ]
  },
  {
   "cell_type": "code",
   "execution_count": 7,
   "id": "f9f425bb-8c99-4f0c-aff0-37a0542e71ec",
   "metadata": {},
   "outputs": [
    {
     "data": {
      "text/html": [
       "<div>\n",
       "<style scoped>\n",
       "    .dataframe tbody tr th:only-of-type {\n",
       "        vertical-align: middle;\n",
       "    }\n",
       "\n",
       "    .dataframe tbody tr th {\n",
       "        vertical-align: top;\n",
       "    }\n",
       "\n",
       "    .dataframe thead th {\n",
       "        text-align: right;\n",
       "    }\n",
       "</style>\n",
       "<table border=\"1\" class=\"dataframe\">\n",
       "  <thead>\n",
       "    <tr style=\"text-align: right;\">\n",
       "      <th></th>\n",
       "      <th>filename</th>\n",
       "      <th>max_x</th>\n",
       "      <th>max_y</th>\n",
       "      <th>trustii_id</th>\n",
       "      <th>slide_id</th>\n",
       "    </tr>\n",
       "  </thead>\n",
       "  <tbody>\n",
       "    <tr>\n",
       "      <th>0</th>\n",
       "      <td>hqi5y2OzZy_b.tif</td>\n",
       "      <td>82944</td>\n",
       "      <td>198144</td>\n",
       "      <td>1</td>\n",
       "      <td>hqi5y2OzZy_b</td>\n",
       "    </tr>\n",
       "    <tr>\n",
       "      <th>1</th>\n",
       "      <td>1xebGQuAM7_b.tif</td>\n",
       "      <td>82944</td>\n",
       "      <td>194048</td>\n",
       "      <td>2</td>\n",
       "      <td>1xebGQuAM7_b</td>\n",
       "    </tr>\n",
       "    <tr>\n",
       "      <th>2</th>\n",
       "      <td>8xGdkL0vZt_a.tif</td>\n",
       "      <td>82944</td>\n",
       "      <td>197632</td>\n",
       "      <td>3</td>\n",
       "      <td>8xGdkL0vZt_a</td>\n",
       "    </tr>\n",
       "    <tr>\n",
       "      <th>3</th>\n",
       "      <td>LQj5lC48hB_a.tif</td>\n",
       "      <td>82688</td>\n",
       "      <td>196352</td>\n",
       "      <td>4</td>\n",
       "      <td>LQj5lC48hB_a</td>\n",
       "    </tr>\n",
       "    <tr>\n",
       "      <th>4</th>\n",
       "      <td>9NlPhYAFUH_a.tif</td>\n",
       "      <td>82688</td>\n",
       "      <td>197888</td>\n",
       "      <td>5</td>\n",
       "      <td>9NlPhYAFUH_a</td>\n",
       "    </tr>\n",
       "    <tr>\n",
       "      <th>...</th>\n",
       "      <td>...</td>\n",
       "      <td>...</td>\n",
       "      <td>...</td>\n",
       "      <td>...</td>\n",
       "      <td>...</td>\n",
       "    </tr>\n",
       "    <tr>\n",
       "      <th>757</th>\n",
       "      <td>7kiGhyiFBZ_b.tif</td>\n",
       "      <td>82688</td>\n",
       "      <td>198144</td>\n",
       "      <td>758</td>\n",
       "      <td>7kiGhyiFBZ_b</td>\n",
       "    </tr>\n",
       "    <tr>\n",
       "      <th>758</th>\n",
       "      <td>M62FqXX2cW_a.tif</td>\n",
       "      <td>82688</td>\n",
       "      <td>198144</td>\n",
       "      <td>759</td>\n",
       "      <td>M62FqXX2cW_a</td>\n",
       "    </tr>\n",
       "    <tr>\n",
       "      <th>759</th>\n",
       "      <td>AIg925SQy8_a.tif</td>\n",
       "      <td>82688</td>\n",
       "      <td>198144</td>\n",
       "      <td>760</td>\n",
       "      <td>AIg925SQy8_a</td>\n",
       "    </tr>\n",
       "    <tr>\n",
       "      <th>760</th>\n",
       "      <td>OXCUbLOBGD_a.tif</td>\n",
       "      <td>82688</td>\n",
       "      <td>197632</td>\n",
       "      <td>761</td>\n",
       "      <td>OXCUbLOBGD_a</td>\n",
       "    </tr>\n",
       "    <tr>\n",
       "      <th>761</th>\n",
       "      <td>Qy7f832iwf_a.tif</td>\n",
       "      <td>82688</td>\n",
       "      <td>198400</td>\n",
       "      <td>762</td>\n",
       "      <td>Qy7f832iwf_a</td>\n",
       "    </tr>\n",
       "  </tbody>\n",
       "</table>\n",
       "<p>762 rows × 5 columns</p>\n",
       "</div>"
      ],
      "text/plain": [
       "             filename  max_x   max_y  trustii_id      slide_id\n",
       "0    hqi5y2OzZy_b.tif  82944  198144           1  hqi5y2OzZy_b\n",
       "1    1xebGQuAM7_b.tif  82944  194048           2  1xebGQuAM7_b\n",
       "2    8xGdkL0vZt_a.tif  82944  197632           3  8xGdkL0vZt_a\n",
       "3    LQj5lC48hB_a.tif  82688  196352           4  LQj5lC48hB_a\n",
       "4    9NlPhYAFUH_a.tif  82688  197888           5  9NlPhYAFUH_a\n",
       "..                ...    ...     ...         ...           ...\n",
       "757  7kiGhyiFBZ_b.tif  82688  198144         758  7kiGhyiFBZ_b\n",
       "758  M62FqXX2cW_a.tif  82688  198144         759  M62FqXX2cW_a\n",
       "759  AIg925SQy8_a.tif  82688  198144         760  AIg925SQy8_a\n",
       "760  OXCUbLOBGD_a.tif  82688  197632         761  OXCUbLOBGD_a\n",
       "761  Qy7f832iwf_a.tif  82688  198400         762  Qy7f832iwf_a\n",
       "\n",
       "[762 rows x 5 columns]"
      ]
     },
     "execution_count": 7,
     "metadata": {},
     "output_type": "execute_result"
    }
   ],
   "source": [
    "DATA_DIR = os.environ['DIR_RAW_DATA']\n",
    "\n",
    "df = pd.read_csv(f'{DATA_DIR}/validation.csv',sep=',')\n",
    "df['slide_id'] = df.filename.str.split('.').str[0]\n",
    "df"
   ]
  },
  {
   "cell_type": "code",
   "execution_count": 16,
   "id": "bf51a2c1-d750-41d8-8695-74a48908a2e4",
   "metadata": {},
   "outputs": [
    {
     "data": {
      "text/plain": [
       "(165, 5)"
      ]
     },
     "execution_count": 16,
     "metadata": {},
     "output_type": "execute_result"
    }
   ],
   "source": [
    "meta = df.drop_duplicates(subset='filename').reset_index(drop=True)\n",
    "meta.shape"
   ]
  },
  {
   "cell_type": "code",
   "execution_count": null,
   "id": "598f6ae0-e708-4cdd-9001-5c19fe3c3cd1",
   "metadata": {},
   "outputs": [],
   "source": []
  },
  {
   "cell_type": "code",
   "execution_count": 22,
   "id": "9c487229-018a-4884-b0d7-3cda8d8b0614",
   "metadata": {},
   "outputs": [
    {
     "name": "stdout",
     "output_type": "stream",
     "text": [
      "##### MASKING 165 SLIDES #####\n",
      "Applying filters to images (multiprocess)\n",
      "\n",
      "Number of processes: 5 Number of training images: 165\n",
      "Time to apply filters to all images (multiprocess): 0:01:36.794365\n",
      "\n",
      "##### TIME MASKING SLIDES: 0:01:37.304876 #####\n"
     ]
    }
   ],
   "source": [
    "##Generate masks\n",
    "NAMES = meta.slide_id.tolist()#[:10]\n",
    "print(f'##### MASKING {len(NAMES)} SLIDES #####')\n",
    "\n",
    "filters.multiprocess_apply_filters_to_images(image_name_list=NAMES,)\n",
    "elapsed = time.time() - START_TIME\n",
    "print(f'##### TIME MASKING SLIDES: {timedelta(seconds=elapsed)} #####')\n"
   ]
  },
  {
   "cell_type": "code",
   "execution_count": 8,
   "id": "52d6dc24-cb6d-4aa5-a888-14ad53bd77ba",
   "metadata": {},
   "outputs": [],
   "source": [
    "# ps = glob.glob('workspace/filter_png/*')\n",
    "# len(ps)"
   ]
  }
 ],
 "metadata": {
  "kernelspec": {
   "display_name": "Python 3 (ipykernel)",
   "language": "python",
   "name": "python3"
  },
  "language_info": {
   "codemirror_mode": {
    "name": "ipython",
    "version": 3
   },
   "file_extension": ".py",
   "mimetype": "text/x-python",
   "name": "python",
   "nbconvert_exporter": "python",
   "pygments_lexer": "ipython3",
   "version": "3.9.10"
  }
 },
 "nbformat": 4,
 "nbformat_minor": 5
}

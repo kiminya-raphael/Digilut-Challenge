{
 "cells": [
  {
   "cell_type": "markdown",
   "metadata": {
    "editable": true,
    "slideshow": {
     "slide_type": ""
    },
    "tags": []
   },
   "source": [
    "# Preprocessing notebook"
   ]
  },
  {
   "cell_type": "markdown",
   "metadata": {
    "collapsed": false
   },
   "source": [
    "## Import libraries & setup"
   ]
  },
  {
   "cell_type": "code",
   "execution_count": 3,
   "metadata": {
    "ExecuteTime": {
     "end_time": "2024-04-26T08:18:39.130627Z",
     "start_time": "2024-04-26T08:18:28.322871Z"
    }
   },
   "outputs": [],
   "source": [
    "import os\n",
    "import pandas as pd\n",
    "\n",
    "from pathlib import Path\n",
    "from dotenv import load_dotenv, find_dotenv"
   ]
  },
  {
   "cell_type": "code",
   "execution_count": 4,
   "metadata": {},
   "outputs": [
    {
     "data": {
      "text/plain": [
       "True"
      ]
     },
     "execution_count": 4,
     "metadata": {},
     "output_type": "execute_result"
    }
   ],
   "source": [
    "env_path = '/home/jovyan/digilut/ENV'\n",
    "# env_path = '/home/jovyan/digilut/.env'\n",
    "# env_path = find_dotenv()\n",
    "load_dotenv(env_path)"
   ]
  },
  {
   "cell_type": "code",
   "execution_count": 6,
   "metadata": {},
   "outputs": [
    {
     "data": {
      "text/plain": [
       "'/home/jovyan/data'"
      ]
     },
     "execution_count": 6,
     "metadata": {},
     "output_type": "execute_result"
    }
   ],
   "source": [
    "os.environ['DIR_RAW_DATA']"
   ]
  },
  {
   "cell_type": "code",
   "execution_count": 7,
   "metadata": {},
   "outputs": [
    {
     "data": {
      "text/plain": [
       "'/home/jovyan/digilut/data/processed'"
      ]
     },
     "execution_count": 7,
     "metadata": {},
     "output_type": "execute_result"
    }
   ],
   "source": [
    "os.environ['DIR_PROCESSED_DATA']"
   ]
  },
  {
   "cell_type": "code",
   "execution_count": 8,
   "metadata": {},
   "outputs": [],
   "source": [
    "# %env DIR_RAW_DATA = {DIR_RAW_DATA}\n",
    "# %env DIR_PROCESSED_DATA = {DIR_PROCESSED_DATA}"
   ]
  },
  {
   "cell_type": "code",
   "execution_count": null,
   "metadata": {},
   "outputs": [],
   "source": []
  },
  {
   "cell_type": "code",
   "execution_count": null,
   "metadata": {},
   "outputs": [],
   "source": []
  },
  {
   "cell_type": "markdown",
   "metadata": {},
   "source": [
    "## Preprocess test"
   ]
  },
  {
   "cell_type": "code",
   "execution_count": 29,
   "metadata": {},
   "outputs": [
    {
     "name": "stdout",
     "output_type": "stream",
     "text": [
      "[NbClientApp] Executing test/gen_masks_test.ipynb\n",
      "[NbClientApp] Executing notebook with kernel: python3\n"
     ]
    }
   ],
   "source": [
    "# generate test masks\n",
    "# outputs to DIR_PROCESSED_DATA/workspace\n",
    "!jupyter execute test/gen_masks_test.ipynb"
   ]
  },
  {
   "cell_type": "code",
   "execution_count": 34,
   "metadata": {},
   "outputs": [
    {
     "name": "stdout",
     "output_type": "stream",
     "text": [
      "[NbClientApp] Executing test/gen_tiles_test.ipynb\n",
      "[NbClientApp] Executing notebook with kernel: python3\n"
     ]
    }
   ],
   "source": [
    "# generate test tiles\n",
    "# outputs tiled images to DIR_PROCESSED_DATA/workspace/test\n",
    "!jupyter execute test/gen_tiles_test.ipynb"
   ]
  },
  {
   "cell_type": "code",
   "execution_count": null,
   "metadata": {},
   "outputs": [],
   "source": []
  },
  {
   "cell_type": "markdown",
   "metadata": {},
   "source": [
    "## Preprocess train"
   ]
  },
  {
   "cell_type": "code",
   "execution_count": 35,
   "metadata": {},
   "outputs": [
    {
     "name": "stdout",
     "output_type": "stream",
     "text": [
      "[NbClientApp] Executing train/gen_train_gt_crops.ipynb\n",
      "[NbClientApp] Executing notebook with kernel: python3\n"
     ]
    }
   ],
   "source": [
    "# export train ground truth crops and bboxes\n",
    "!jupyter execute train/gen_train_gt_crops.ipynb"
   ]
  },
  {
   "cell_type": "code",
   "execution_count": 38,
   "metadata": {},
   "outputs": [
    {
     "name": "stdout",
     "output_type": "stream",
     "text": [
      "[NbClientApp] Executing train/gen_masks_train.ipynb\n",
      "[NbClientApp] Executing notebook with kernel: python3\n"
     ]
    }
   ],
   "source": [
    "# generate train masks \n",
    "# outputs to DIR_PROCESSED_DATA/workspace\n",
    "!jupyter execute train/gen_masks_train.ipynb"
   ]
  },
  {
   "cell_type": "code",
   "execution_count": 39,
   "metadata": {},
   "outputs": [
    {
     "name": "stdout",
     "output_type": "stream",
     "text": [
      "[NbClientApp] Executing train/gen_tiles_train.ipynb\n",
      "[NbClientApp] Executing notebook with kernel: python3\n"
     ]
    }
   ],
   "source": [
    "# generate train tiles\n",
    "# outputs tiled images to DIR_PROCESSED_DATA/workspace/train\n",
    "!jupyter execute train/gen_tiles_train.ipynb"
   ]
  },
  {
   "cell_type": "code",
   "execution_count": 11,
   "metadata": {},
   "outputs": [
    {
     "name": "stdout",
     "output_type": "stream",
     "text": [
      "[NbClientApp] Executing train/gen_train_ds_p3.ipynb\n",
      "[NbClientApp] Executing notebook with kernel: python3\n"
     ]
    }
   ],
   "source": [
    "# create final training dataset\n",
    "!jupyter execute train/gen_train_ds_p3.ipynb"
   ]
  },
  {
   "cell_type": "code",
   "execution_count": null,
   "metadata": {},
   "outputs": [],
   "source": []
  }
 ],
 "metadata": {
  "kernelspec": {
   "display_name": "Python 3 (ipykernel)",
   "language": "python",
   "name": "python3"
  },
  "language_info": {
   "codemirror_mode": {
    "name": "ipython",
    "version": 3
   },
   "file_extension": ".py",
   "mimetype": "text/x-python",
   "name": "python",
   "nbconvert_exporter": "python",
   "pygments_lexer": "ipython3",
   "version": "3.9.10"
  }
 },
 "nbformat": 4,
 "nbformat_minor": 2
}
